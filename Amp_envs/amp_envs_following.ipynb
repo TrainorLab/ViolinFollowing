{
 "cells": [
  {
   "cell_type": "code",
   "execution_count": 2,
   "metadata": {},
   "outputs": [],
   "source": [
    "## Musical following study\n",
    "# Script extracting amplitude envelopes from .wav files\n",
    "# Written by Lucas Klein - June 2020\n",
    "# Last edited - January 2022"
   ]
  },
  {
   "cell_type": "code",
   "execution_count": 11,
   "metadata": {},
   "outputs": [
    {
     "name": "stdout",
     "output_type": "stream",
     "text": [
      "3.9.7 (default, Sep 16 2021, 08:50:36) \n",
      "[Clang 10.0.0 ]\n",
      "/Users/lucas/Desktop/Following\n"
     ]
    }
   ],
   "source": [
    "# Import functions\n",
    "\n",
    "%reset -f\n",
    "#from playsound import playsound # this command function isn't found for some reason?\n",
    "## I tried to update and reinstall anaconda python, but can't update to latest version (10.2.3)\n",
    "import scipy\n",
    "from scipy.io import wavfile\n",
    "import matplotlib.pyplot as plt\n",
    "import numpy as np\n",
    "import pandas as pd\n",
    "from pathlib import Path\n",
    "import glob\n",
    "import os\n",
    "import sys\n",
    "\n",
    "print(sys.version) # Jupyter is using \"Python\" (Python2?) (not Python3) version 3.9.7\n",
    "## But the current version is Python3 version 3.10.2\n",
    "\n",
    "os.chdir('/Users/lucas/Desktop/Following/')\n",
    "print(os.getcwd())"
   ]
  },
  {
   "cell_type": "code",
   "execution_count": 13,
   "metadata": {},
   "outputs": [
    {
     "name": "stdout",
     "output_type": "stream",
     "text": [
      "whole/\n",
      "['Part1', 'Part2', 'Part3', 'Part4', 'Part5', 'Part6', 'Part7', 'Part8']\n"
     ]
    },
    {
     "data": {
      "text/plain": [
       "'/Users/lucas/Desktop/Following/ANALYSIS/In The Garden/Txts_Pwhole/'"
      ]
     },
     "execution_count": 13,
     "metadata": {},
     "output_type": "execute_result"
    }
   ],
   "source": [
    "## Set folder locations --- CHANGE THESE VARIABLES\n",
    "\n",
    "piece = 'In The Garden/' # Danny Boy/ or In The Garden/\n",
    "section = 'whole/' # whole/ for whole piece, 15_2, 22_1, 22_2, 22_3\n",
    "\n",
    "## Find the .wav files in the DATA folder\n",
    "# There is one folder for each piece, each which contains a folder for each section\n",
    "data_folder = '/Users/lucas/Desktop/Following/DATA/' + piece\n",
    "wav_perfs = data_folder + 'Performance_' + section\n",
    "wav_stims = data_folder + 'Stim_out_' + section\n",
    "\n",
    "# Set folder to save the outputs, .npy files and .txt files, inside the ANALYSIS folder\n",
    "npys_perfs = '/Users/lucas/Desktop/Following/ANALYSIS/' + piece + 'Npys_P' + section\n",
    "npys_stims = '/Users/lucas/Desktop/Following/ANALYSIS/' + piece + 'Npys_S' + section\n",
    "txts_perfs = '/Users/lucas/Desktop/Following/ANALYSIS/' + piece + 'Txts_P' + section\n",
    "txts_stims = '/Users/lucas/Desktop/Following/ANALYSIS/' + piece + 'Txts_S' + section\n",
    "\n",
    "participants = os.listdir(wav_perfs)\n",
    "participants.sort()\n",
    "participants.pop(0) # This takes the '.DS_Store' entry off the list\n",
    "\n",
    "print(section)\n",
    "print(participants)\n",
    "txts_perfs"
   ]
  },
  {
   "cell_type": "code",
   "execution_count": 14,
   "metadata": {},
   "outputs": [],
   "source": [
    "## Function that uses wavfile.read to extract data from .wav files\n",
    "\n",
    "def get_sound(trial):\n",
    "    sf, a = scipy.io.wavfile.read(trial) # sampling rate SHOULD be 44.1 kHz\n",
    "    # a is the data returned as a Numpy array. For 24-bit PCM .wav file, Numpy data type is int16\n",
    "    \n",
    "    t_samples = len(a) # number of time samples\n",
    "    t_sec = np.arange(t_samples)*(1/sf) # total length of .wav file in seconds\n",
    "    \n",
    "    amp_env = np.array(a)\n",
    "    \n",
    "    return amp_env, t_samples, t_sec, sf"
   ]
  },
  {
   "cell_type": "code",
   "execution_count": 15,
   "metadata": {},
   "outputs": [],
   "source": [
    "## EXTRACT AMPLITUDE ENVELOPES\n",
    "# Loop through participants in data_folder\n",
    "# For each participant, loop through all trials\n",
    "# For each trial, read data, detect sampling rate, extract amp env, and save output as .npy\n",
    "\n",
    "sampling_rates = [] # empty list of sampling rates\n",
    "\n",
    "for participant in participants:\n",
    "    participant_folder_perf = wav_perfs + participant\n",
    "    participant_folder_stim = wav_stims + participant\n",
    "    filenames_perf = glob.glob(participant_folder_perf + \"/*.wav\") # make a list of the the .wav files\n",
    "    filenames_stim = glob.glob(participant_folder_stim + \"/*.wav\") # make a list of the the .wav files\n",
    "    filenames_perf.sort()\n",
    "    filenames_stim.sort()\n",
    "    \n",
    "    # IMPORTANT! Make sure object filenames lists trials in the correct order\n",
    "    # Depending on how participants label their recordings, this list could be in a wonky order\n",
    "    # This is very important when checking to see how Granger changes over course of trials\n",
    "    #print(filenames_perf);\n",
    "    #print(filenames_stim)\n",
    "    \n",
    "    ## Loop through performance trials\n",
    "    for triali in filenames_perf:\n",
    "        trial_num = filenames_perf.index(triali) + 1 # add 1 to avoid having a \"Trial 0\"\n",
    "        rec, t_samples, t_sec, sf_triali = get_sound(triali)\n",
    "        \n",
    "        sampling_rates += [[sf_triali]] # Add this trial's sampling rate to the list\n",
    "        \n",
    "        np.save(npys_perfs + '{}/Trial_{}_perf.npy'.format(participant,trial_num),rec) # Save amp env as .npy file\n",
    "        \n",
    "        \n",
    "    ## Loop through stimulus trials\n",
    "    for trialis in filenames_stim:\n",
    "        trial_num = filenames_stim.index(trialis) + 1 # add 1 to avoid having a \"Trial 0\"\n",
    "        stim, t_samples, t_sec, sf_triali = get_sound(trialis)\n",
    "        \n",
    "        np.save(npys_stims + '{}/Trial_{}_stim.npy'.format(participant,trial_num),stim) # Save amp env as .npy file"
   ]
  },
  {
   "cell_type": "code",
   "execution_count": 16,
   "metadata": {},
   "outputs": [
    {
     "name": "stdout",
     "output_type": "stream",
     "text": [
      "[-56   5  11 ...   1   3   2]\n",
      "[  -7   -7   -6 ... -363 -346 -303]\n"
     ]
    },
    {
     "data": {
      "text/plain": [
       "'whole/'"
      ]
     },
     "execution_count": 16,
     "metadata": {},
     "output_type": "execute_result"
    }
   ],
   "source": [
    "print(rec)\n",
    "print(stim)\n",
    "# sound = Numpy array of values\n",
    "# n_samples = number of samples\n",
    "# t_sec = length of .wav file in seconds\n",
    "# sampling_rates now lists the sampling rates of each trial so we can make sure they're all 44.1 kHz\n",
    "section"
   ]
  },
  {
   "cell_type": "code",
   "execution_count": 17,
   "metadata": {},
   "outputs": [
    {
     "name": "stdout",
     "output_type": "stream",
     "text": [
      "[[44100], [44100], [44100], [44100], [44100], [44100], [44100], [44100], [44100], [44100], [44100], [44100], [44100], [44100], [44100], [44100], [44100], [44100], [44100], [44100], [44100], [44100], [44100], [44100], [44100], [44100], [44100], [44100], [44100], [44100], [44100], [44100], [44100], [44100], [44100], [44100], [44100], [44100], [44100], [44100], [44100], [44100], [44100], [44100], [44100], [44100], [44100], [44100], [44100], [44100], [44100], [44100], [44100], [44100], [44100], [44100], [44100], [44100], [44100], [44100], [44100], [44100], [44100], [44100]]\n",
      "4144365\n",
      "93.97650793650794\n"
     ]
    }
   ],
   "source": [
    "# Check that sampling rates are all 44100\n",
    "print(sampling_rates)\n",
    "print(t_samples)\n",
    "print(max(t_sec))"
   ]
  },
  {
   "cell_type": "code",
   "execution_count": 18,
   "metadata": {},
   "outputs": [
    {
     "data": {
      "text/plain": [
       "[<matplotlib.lines.Line2D at 0x7f9d6058c0d0>]"
      ]
     },
     "execution_count": 18,
     "metadata": {},
     "output_type": "execute_result"
    },
    {
     "data": {
      "image/png": "[encoded data removed]",
      "text/plain": [
       "<Figure size 432x288 with 1 Axes>"
      ]
     },
     "metadata": {
      "needs_background": "light"
     },
     "output_type": "display_data"
    }
   ],
   "source": [
    "# Look at sound envelopes\n",
    "#plt.plot(rec)\n",
    "plt.plot(stim)"
   ]
  },
  {
   "cell_type": "code",
   "execution_count": 19,
   "metadata": {},
   "outputs": [],
   "source": [
    "from scipy import signal\n",
    "## Design butterworth filter\n",
    "# filter order = 3, critical freq = .001\n",
    "# For LP or HP filters, critical freq is a scalar.\n",
    "\n",
    "b, a = signal.butter(3, 0.001) # default is 'lowpass'\n",
    "# 3 = third order filter\n",
    "# .001 = critical frequency\n",
    "## For Butterworth, this is the point at which gain drops to 1/sqrt(2)\n",
    "## that of the passband (the “-3 dB point”)."
   ]
  },
  {
   "cell_type": "code",
   "execution_count": 20,
   "metadata": {},
   "outputs": [],
   "source": [
    "# This can take ~15-20 minutes to run...\n",
    "\n",
    "## LOAD saved .npy files back into script as objects\n",
    "# For each participant, loop through all trials\n",
    "# For each trial, load the .npy file, take it's absolute value, and apply the filter\n",
    "# Then save each trial it as a .txt file in a different folder\n",
    "\n",
    "for participant in participants:\n",
    "    participant_folder_perf = npys_perfs + participant\n",
    "    participant_folder_stim = npys_stims + participant\n",
    "    filenames_perf = glob.glob(participant_folder_perf + \"/*.npy\") # make a list of the .npy files\n",
    "    filenames_stim = glob.glob(participant_folder_stim + \"/*.npy\") # make a list of the stimulus .npy files\n",
    "    filenames_perf.sort()\n",
    "    filenames_stim.sort()\n",
    "    \n",
    "    ## Loop through performance trials\n",
    "    for triali in filenames_perf:\n",
    "        trial_num = filenames_perf.index(triali) + 1 # add 1 to avoid having a \"Trial 0\"\n",
    "        l = np.load(triali)\n",
    "        m = np.abs(l) # data to be filtered\n",
    "        rec_filt = signal.filtfilt(b, a, m, axis=0) # b and a are filter parameters from above, m is data array\n",
    "        np.savetxt(txts_perfs + '{}/Trial_{}_perf.txt'.format(participant,trial_num),rec_filt)\n",
    "        \n",
    "    ## Loop through stimulus trials\n",
    "    for trialis in filenames_stim:\n",
    "        trial_num = filenames_stim.index(trialis)+1 # add 1 to avoid having a \"Trial 0\"\n",
    "        l = np.load(trialis)\n",
    "        m = np.abs(l)\n",
    "        stim_filt = signal.filtfilt(b, a, m, axis=0) # b and a are filter parameters from above, m is data array\n",
    "        np.savetxt(txts_stims + '{}/Trial_{}_stim.txt'.format(participant,trial_num),stim_filt)"
   ]
  },
  {
   "cell_type": "code",
   "execution_count": 10,
   "metadata": {},
   "outputs": [
    {
     "name": "stdout",
     "output_type": "stream",
     "text": [
      "[ 9.61540559  9.60589688  9.59638719 ... 11.41660338 11.41660335\n",
      " 11.41660332]\n",
      "[2.45820795 2.50551607 2.55282704 ... 7.19040347 7.19040338 7.1904033 ]\n"
     ]
    },
    {
     "data": {
      "image/png": "[encoded data removed]",
      "text/plain": [
       "<Figure size 432x288 with 1 Axes>"
      ]
     },
     "metadata": {
      "needs_background": "light"
     },
     "output_type": "display_data"
    }
   ],
   "source": [
    "## Look at filtered time series\n",
    "print(rec_filt)\n",
    "print(stim_filt)\n",
    "plt.plot(rec_filt)\n",
    "plt.plot(stim_filt)\n",
    "plt.show()"
   ]
  },
  {
   "cell_type": "code",
   "execution_count": 12,
   "metadata": {},
   "outputs": [
    {
     "ename": "ValueError",
     "evalue": "object too deep for desired array",
     "output_type": "error",
     "traceback": [
      "\u001b[0;31m---------------------------------------------------------------------------\u001b[0m",
      "\u001b[0;31mValueError\u001b[0m                                Traceback (most recent call last)",
      "\u001b[0;32m/var/folders/lq/5rzflsd960ngmsv7vkxmf4940000gn/T/ipykernel_25709/1399108476.py\u001b[0m in \u001b[0;36m<module>\u001b[0;34m\u001b[0m\n\u001b[1;32m      1\u001b[0m \u001b[0;31m## Correlate two time series\u001b[0m\u001b[0;34m\u001b[0m\u001b[0;34m\u001b[0m\u001b[0m\n\u001b[1;32m      2\u001b[0m \u001b[0;34m\u001b[0m\u001b[0m\n\u001b[0;32m----> 3\u001b[0;31m \u001b[0mcorr\u001b[0m \u001b[0;34m=\u001b[0m \u001b[0mnp\u001b[0m\u001b[0;34m.\u001b[0m\u001b[0mcorrelate\u001b[0m\u001b[0;34m(\u001b[0m\u001b[0mrec_filt\u001b[0m\u001b[0;34m,\u001b[0m\u001b[0mstim_filt\u001b[0m\u001b[0;34m)\u001b[0m\u001b[0;34m\u001b[0m\u001b[0;34m\u001b[0m\u001b[0m\n\u001b[0m\u001b[1;32m      4\u001b[0m \u001b[0mcorr\u001b[0m\u001b[0;34m\u001b[0m\u001b[0;34m\u001b[0m\u001b[0m\n\u001b[1;32m      5\u001b[0m \u001b[0;34m\u001b[0m\u001b[0m\n",
      "\u001b[0;32m<__array_function__ internals>\u001b[0m in \u001b[0;36mcorrelate\u001b[0;34m(*args, **kwargs)\u001b[0m\n",
      "\u001b[0;32m~/anaconda3/lib/python3.9/site-packages/numpy/core/numeric.py\u001b[0m in \u001b[0;36mcorrelate\u001b[0;34m(a, v, mode)\u001b[0m\n\u001b[1;32m    744\u001b[0m     \"\"\"\n\u001b[1;32m    745\u001b[0m     \u001b[0mmode\u001b[0m \u001b[0;34m=\u001b[0m \u001b[0m_mode_from_name\u001b[0m\u001b[0;34m(\u001b[0m\u001b[0mmode\u001b[0m\u001b[0;34m)\u001b[0m\u001b[0;34m\u001b[0m\u001b[0;34m\u001b[0m\u001b[0m\n\u001b[0;32m--> 746\u001b[0;31m     \u001b[0;32mreturn\u001b[0m \u001b[0mmultiarray\u001b[0m\u001b[0;34m.\u001b[0m\u001b[0mcorrelate2\u001b[0m\u001b[0;34m(\u001b[0m\u001b[0ma\u001b[0m\u001b[0;34m,\u001b[0m \u001b[0mv\u001b[0m\u001b[0;34m,\u001b[0m \u001b[0mmode\u001b[0m\u001b[0;34m)\u001b[0m\u001b[0;34m\u001b[0m\u001b[0;34m\u001b[0m\u001b[0m\n\u001b[0m\u001b[1;32m    747\u001b[0m \u001b[0;34m\u001b[0m\u001b[0m\n\u001b[1;32m    748\u001b[0m \u001b[0;34m\u001b[0m\u001b[0m\n",
      "\u001b[0;31mValueError\u001b[0m: object too deep for desired array"
     ]
    }
   ],
   "source": [
    "## Correlate two time series\n",
    "\n",
    "corr = np.correlate(rec_filt,stim_filt)\n",
    "corr\n",
    "\n",
    "# I think they need to be truncated"
   ]
  },
  {
   "cell_type": "code",
   "execution_count": 343,
   "metadata": {},
   "outputs": [
    {
     "data": {
      "text/plain": [
       "1"
      ]
     },
     "execution_count": 343,
     "metadata": {},
     "output_type": "execute_result"
    }
   ],
   "source": [
    "# np.size(corr)"
   ]
  },
  {
   "cell_type": "code",
   "execution_count": 344,
   "metadata": {},
   "outputs": [
    {
     "data": {
      "text/plain": [
       "[<matplotlib.lines.Line2D at 0x7f92c44b6050>]"
      ]
     },
     "execution_count": 344,
     "metadata": {},
     "output_type": "execute_result"
    },
    {
     "data": {
      "image/png": "[encoded data removed]",
      "text/plain": [
       "<Figure size 432x288 with 1 Axes>"
      ]
     },
     "metadata": {
      "needs_background": "light"
     },
     "output_type": "display_data"
    }
   ],
   "source": [
    "# plt.plot(corr)"
   ]
  }
 ],
 "metadata": {
  "kernelspec": {
   "display_name": "Python 3 (ipykernel)",
   "language": "python",
   "name": "python3"
  },
  "language_info": {
   "codemirror_mode": {
    "name": "ipython",
    "version": 3
   },
   "file_extension": ".py",
   "mimetype": "text/x-python",
   "name": "python",
   "nbconvert_exporter": "python",
   "pygments_lexer": "ipython3",
   "version": "3.9.7"
  }
 },
 "nbformat": 4,
 "nbformat_minor": 4
}
